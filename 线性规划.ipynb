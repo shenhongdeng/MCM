{
 "cells": [
  {
   "cell_type": "code",
   "execution_count": 31,
   "id": "82c1882d",
   "metadata": {},
   "outputs": [],
   "source": [
    "import pulp"
   ]
  },
  {
   "cell_type": "code",
   "execution_count": 32,
   "id": "9eb2d5d5",
   "metadata": {},
   "outputs": [],
   "source": [
    "# 定义问题\n",
    "MyProbLP = pulp.LpProblem(\"LPProblemDemo1\", sense=pulp.LpMaximize) # 求最大值\n",
    "\n",
    "# 定义决策变量\n",
    "x1 = pulp.LpVariable(\"x1\", lowBound=0, upBound=7, cat=\"Continuous\")\n",
    "x2 = pulp.LpVariable(\"x2\", lowBound=0, upBound=7, cat=\"Continuous\")\n",
    "x3 = pulp.LpVariable(\"x3\", lowBound=0, upBound=7, cat=\"Continuous\")"
   ]
  },
  {
   "cell_type": "code",
   "execution_count": 33,
   "id": "c49b6274",
   "metadata": {},
   "outputs": [],
   "source": [
    "# 添加目标函数\n",
    "MyProbLP += 2*x1 + 3*x2 - 5*x3      # 设置目标函数\n",
    "MyProbLP += (2*x1 - 5*x2 + x3 >= 10)  # 不等式约束\n",
    "MyProbLP += (x1 + 3*x2 + x3 <= 12)  # 不等式约束\n",
    "MyProbLP += (x1 + x2 + x3 == 7)  # 等式约束"
   ]
  },
  {
   "cell_type": "code",
   "execution_count": 34,
   "id": "d33ff95e",
   "metadata": {},
   "outputs": [
    {
     "name": "stdout",
     "output_type": "stream",
     "text": [
      "Welcome to the CBC MILP Solver \n",
      "Version: 2.10.3 \n",
      "Build Date: Dec 15 2019 \n",
      "\n",
      "command line - /Library/Frameworks/Python.framework/Versions/3.7/lib/python3.7/site-packages/pulp/apis/../solverdir/cbc/osx/64/cbc /var/folders/3n/b033xwgx7c91s9z62_xw707c0000gn/T/460bfe5a275145f8a00ee2d15d19e2d1-pulp.mps max timeMode elapsed branch printingOptions all solution /var/folders/3n/b033xwgx7c91s9z62_xw707c0000gn/T/460bfe5a275145f8a00ee2d15d19e2d1-pulp.sol (default strategy 1)\n",
      "At line 2 NAME          MODEL\n",
      "At line 3 ROWS\n",
      "At line 8 COLUMNS\n",
      "At line 21 RHS\n",
      "At line 25 BOUNDS\n",
      "At line 29 ENDATA\n",
      "Problem MODEL has 3 rows, 3 columns and 9 elements\n",
      "Coin0008I MODEL read with 0 errors\n",
      "Option for timeMode changed from cpu to elapsed\n",
      "Presolve 3 (0) rows, 3 (0) columns and 9 (0) elements\n",
      "0  Obj -0 Primal inf 11.472136 (2) Dual inf 3.3416406 (2)\n",
      "2  Obj 14.571429\n",
      "Optimal - objective value 14.571429\n",
      "Optimal objective 14.57142857 - 2 iterations time 0.002\n",
      "Option for printingOptions changed from normal to all\n",
      "Total time (CPU seconds):       0.00   (Wallclock seconds):       0.00\n",
      "\n",
      "Status: Optimal\n",
      "x1 = 6.4285714\n",
      "x2 = 0.57142857\n",
      "x3 = 0.0\n",
      "Max F(x) =  14.57142851\n"
     ]
    }
   ],
   "source": [
    "# 求解\n",
    "MyProbLP.solve()  # youcans@xupt\n",
    "print(\"Status:\", pulp.LpStatus[MyProbLP.status]) # 输出求解状态\n",
    "for v in MyProbLP.variables():  # youcans\n",
    "    print(v.name, \"=\", v.varValue)  # 输出每个变量的最优值\n",
    "print(\"Max F(x) = \", pulp.value(MyProbLP.objective))  #输出最优解的目标函数值"
   ]
  },
  {
   "cell_type": "code",
   "execution_count": null,
   "id": "418945ed",
   "metadata": {},
   "outputs": [],
   "source": []
  },
  {
   "cell_type": "code",
   "execution_count": null,
   "id": "43f82e2a",
   "metadata": {},
   "outputs": [],
   "source": []
  },
  {
   "cell_type": "code",
   "execution_count": null,
   "id": "4394332e",
   "metadata": {},
   "outputs": [],
   "source": []
  }
 ],
 "metadata": {
  "kernelspec": {
   "display_name": "Python 3 (ipykernel)",
   "language": "python",
   "name": "python3"
  },
  "language_info": {
   "codemirror_mode": {
    "name": "ipython",
    "version": 3
   },
   "file_extension": ".py",
   "mimetype": "text/x-python",
   "name": "python",
   "nbconvert_exporter": "python",
   "pygments_lexer": "ipython3",
   "version": "3.7.4"
  }
 },
 "nbformat": 4,
 "nbformat_minor": 5
}
